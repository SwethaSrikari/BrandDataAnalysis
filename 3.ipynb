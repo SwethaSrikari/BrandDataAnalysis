{
 "cells": [
  {
   "cell_type": "code",
   "execution_count": 36,
   "id": "31a52b39",
   "metadata": {},
   "outputs": [],
   "source": [
    "# Load python libraries\n",
    "import ast\n",
    "import numpy as np\n",
    "import pandas as pd\n",
    "import matplotlib.pyplot as plt"
   ]
  },
  {
   "cell_type": "code",
   "execution_count": 37,
   "id": "e2b1d7b6",
   "metadata": {},
   "outputs": [],
   "source": [
    "## Loading data to process\n",
    "\n",
    "# Path where you store the csv file on your local disk\n",
    "path_to_data = 'opensponsorship data/task3/'\n",
    "\n",
    "# Load data as a dataframe using pandas\n",
    "athlete_data = pd.read_csv(path_to_data + 'Athlete Search Test - Sheet1.csv')"
   ]
  },
  {
   "cell_type": "code",
   "execution_count": 38,
   "id": "2fab5db9",
   "metadata": {},
   "outputs": [
    {
     "name": "stdout",
     "output_type": "stream",
     "text": [
      "<class 'pandas.core.frame.DataFrame'>\n",
      "RangeIndex: 5206 entries, 0 to 5205\n",
      "Data columns (total 15 columns):\n",
      " #   Column             Non-Null Count  Dtype         \n",
      "---  ------             --------------  -----         \n",
      " 0   search_id          5206 non-null   object        \n",
      " 1   date               5206 non-null   datetime64[ns]\n",
      " 2   brand_userID       5206 non-null   object        \n",
      " 3   brand_profileID    5206 non-null   object        \n",
      " 4   planLevel          5206 non-null   int64         \n",
      " 5   minPrice           3189 non-null   float64       \n",
      " 6   maxPrice           4909 non-null   float64       \n",
      " 7   view_id            1618 non-null   object        \n",
      " 8   user               1618 non-null   object        \n",
      " 9   path               1618 non-null   object        \n",
      " 10  entity             1618 non-null   object        \n",
      " 11  view_created       1618 non-null   datetime64[ns]\n",
      " 12  athlete_userID     1123 non-null   object        \n",
      " 13  athlete_profileID  1123 non-null   object        \n",
      " 14  athlete_name_y     1123 non-null   object        \n",
      "dtypes: datetime64[ns](2), float64(2), int64(1), object(10)\n",
      "memory usage: 610.2+ KB\n"
     ]
    }
   ],
   "source": [
    "# Change column datatypes\n",
    "\n",
    "# List of columns to convert to datetime\n",
    "columns_to_convert = ['date', 'view_created']\n",
    "\n",
    "# Convert the columns to datetime data type\n",
    "athlete_data[columns_to_convert] = athlete_data[columns_to_convert].apply(pd.to_datetime, errors='coerce')\n",
    "\n",
    "athlete_data.info() # Check data type"
   ]
  },
  {
   "cell_type": "markdown",
   "id": "443b04cd",
   "metadata": {},
   "source": [
    "##   Explore the distribution of plan levels in the dataset to see if there are any imbalances. "
   ]
  },
  {
   "cell_type": "code",
   "execution_count": 40,
   "id": "95c788fa",
   "metadata": {},
   "outputs": [
    {
     "data": {
      "text/plain": [
       "0    4607\n",
       "3     599\n",
       "Name: planLevel, dtype: int64"
      ]
     },
     "execution_count": 40,
     "metadata": {},
     "output_type": "execute_result"
    }
   ],
   "source": [
    "# Different plan levels in the dataframe\n",
    "athlete_data.planLevel.value_counts() ## More brands on plan0 than plan3"
   ]
  },
  {
   "cell_type": "markdown",
   "id": "dce9a836",
   "metadata": {},
   "source": [
    "## Analyze the distribution of search dates to identify any seasonal patterns or trends over time. "
   ]
  },
  {
   "cell_type": "markdown",
   "id": "f21b4833",
   "metadata": {},
   "source": [
    "### Number of views made each month by brands in plan0 and plan3"
   ]
  },
  {
   "cell_type": "code",
   "execution_count": 41,
   "id": "54c14072",
   "metadata": {},
   "outputs": [
    {
     "data": {
      "text/html": [
       "<div>\n",
       "<style scoped>\n",
       "    .dataframe tbody tr th:only-of-type {\n",
       "        vertical-align: middle;\n",
       "    }\n",
       "\n",
       "    .dataframe tbody tr th {\n",
       "        vertical-align: top;\n",
       "    }\n",
       "\n",
       "    .dataframe thead th {\n",
       "        text-align: right;\n",
       "    }\n",
       "</style>\n",
       "<table border=\"1\" class=\"dataframe\">\n",
       "  <thead>\n",
       "    <tr style=\"text-align: right;\">\n",
       "      <th>month_view</th>\n",
       "      <th>6.0</th>\n",
       "      <th>7.0</th>\n",
       "      <th>8.0</th>\n",
       "      <th>9.0</th>\n",
       "    </tr>\n",
       "    <tr>\n",
       "      <th>planLevel</th>\n",
       "      <th></th>\n",
       "      <th></th>\n",
       "      <th></th>\n",
       "      <th></th>\n",
       "    </tr>\n",
       "  </thead>\n",
       "  <tbody>\n",
       "    <tr>\n",
       "      <th>0</th>\n",
       "      <td>289</td>\n",
       "      <td>533</td>\n",
       "      <td>335</td>\n",
       "      <td>58</td>\n",
       "    </tr>\n",
       "    <tr>\n",
       "      <th>3</th>\n",
       "      <td>28</td>\n",
       "      <td>34</td>\n",
       "      <td>232</td>\n",
       "      <td>109</td>\n",
       "    </tr>\n",
       "  </tbody>\n",
       "</table>\n",
       "</div>"
      ],
      "text/plain": [
       "month_view  6.0  7.0  8.0  9.0\n",
       "planLevel                     \n",
       "0           289  533  335   58\n",
       "3            28   34  232  109"
      ]
     },
     "execution_count": 41,
     "metadata": {},
     "output_type": "execute_result"
    }
   ],
   "source": [
    "# Create a new column with the month of views created\n",
    "athlete_data['month_view'] = athlete_data['view_created'].dt.month\n",
    "\n",
    "# Pivot the table to create separate columns for each month and check how many views each plan made every month\n",
    "athlete_data.pivot_table(index='planLevel', columns='month_view', aggfunc='size', fill_value=0)"
   ]
  },
  {
   "cell_type": "markdown",
   "id": "5a5f4d29",
   "metadata": {},
   "source": [
    "### Number of searches made each month by brands in plan0 and plan3"
   ]
  },
  {
   "cell_type": "code",
   "execution_count": 42,
   "id": "22f55b88",
   "metadata": {},
   "outputs": [
    {
     "data": {
      "text/html": [
       "<div>\n",
       "<style scoped>\n",
       "    .dataframe tbody tr th:only-of-type {\n",
       "        vertical-align: middle;\n",
       "    }\n",
       "\n",
       "    .dataframe tbody tr th {\n",
       "        vertical-align: top;\n",
       "    }\n",
       "\n",
       "    .dataframe thead th {\n",
       "        text-align: right;\n",
       "    }\n",
       "</style>\n",
       "<table border=\"1\" class=\"dataframe\">\n",
       "  <thead>\n",
       "    <tr style=\"text-align: right;\">\n",
       "      <th>month_search</th>\n",
       "      <th>1</th>\n",
       "      <th>2</th>\n",
       "      <th>3</th>\n",
       "      <th>4</th>\n",
       "      <th>5</th>\n",
       "      <th>6</th>\n",
       "      <th>7</th>\n",
       "      <th>8</th>\n",
       "      <th>9</th>\n",
       "    </tr>\n",
       "    <tr>\n",
       "      <th>planLevel</th>\n",
       "      <th></th>\n",
       "      <th></th>\n",
       "      <th></th>\n",
       "      <th></th>\n",
       "      <th></th>\n",
       "      <th></th>\n",
       "      <th></th>\n",
       "      <th></th>\n",
       "      <th></th>\n",
       "    </tr>\n",
       "  </thead>\n",
       "  <tbody>\n",
       "    <tr>\n",
       "      <th>0</th>\n",
       "      <td>852</td>\n",
       "      <td>802</td>\n",
       "      <td>547</td>\n",
       "      <td>562</td>\n",
       "      <td>494</td>\n",
       "      <td>501</td>\n",
       "      <td>576</td>\n",
       "      <td>273</td>\n",
       "      <td>0</td>\n",
       "    </tr>\n",
       "    <tr>\n",
       "      <th>3</th>\n",
       "      <td>0</td>\n",
       "      <td>0</td>\n",
       "      <td>0</td>\n",
       "      <td>0</td>\n",
       "      <td>0</td>\n",
       "      <td>0</td>\n",
       "      <td>0</td>\n",
       "      <td>321</td>\n",
       "      <td>278</td>\n",
       "    </tr>\n",
       "  </tbody>\n",
       "</table>\n",
       "</div>"
      ],
      "text/plain": [
       "month_search    1    2    3    4    5    6    7    8    9\n",
       "planLevel                                                \n",
       "0             852  802  547  562  494  501  576  273    0\n",
       "3               0    0    0    0    0    0    0  321  278"
      ]
     },
     "execution_count": 42,
     "metadata": {},
     "output_type": "execute_result"
    }
   ],
   "source": [
    "# Create a new column with the month of searches made\n",
    "athlete_data['month_search'] = athlete_data['date'].dt.month\n",
    "\n",
    "# Pivot the table to create separate columns for each month and check how many searches each plan made every month\n",
    "athlete_data.pivot_table(index='planLevel', columns='month_search', aggfunc='size', fill_value=0)"
   ]
  },
  {
   "cell_type": "markdown",
   "id": "e3b59b3f",
   "metadata": {},
   "source": [
    "## Checking if there are brands that switched from plan0 to plan3, brands that were just in plan0 and brands that were just in plan3"
   ]
  },
  {
   "cell_type": "code",
   "execution_count": 43,
   "id": "ba4b4edb",
   "metadata": {},
   "outputs": [],
   "source": [
    "# Group by 'brand_profileID' and check if a brand has both 'Plan 0' and 'Plan 3'\n",
    "check = athlete_data.groupby('brand_profileID')['planLevel'].agg(set)\n",
    "check_both_plans = check.apply(lambda x: 0 in x and 3 in x)\n",
    "check_just_plan_0 = check.apply(lambda x: 0 in x and 3 not in x)\n",
    "check_just_plan_3 = check.apply(lambda x: 0 not in x and 3 in x)"
   ]
  },
  {
   "cell_type": "code",
   "execution_count": 44,
   "id": "92ed3442",
   "metadata": {},
   "outputs": [
    {
     "name": "stdout",
     "output_type": "stream",
     "text": [
      "1302 brands were just in plan 0\n",
      "152 brands were just in plan 3\n",
      "12 brands switched from plan 0 to plan 3\n"
     ]
    }
   ],
   "source": [
    "print(f\"{check_just_plan_0.sum()} brands were just in plan 0\")\n",
    "print(f\"{check_just_plan_3.sum()} brands were just in plan 3\")\n",
    "print(f\"{check_both_plans.sum()} brands switched from plan 0 to plan 3\")"
   ]
  },
  {
   "cell_type": "code",
   "execution_count": 45,
   "id": "95e0fe8b",
   "metadata": {},
   "outputs": [
    {
     "data": {
      "text/plain": [
       "[Text(0, 0, '1302'), Text(0, 0, '152'), Text(0, 0, '12')]"
      ]
     },
     "execution_count": 45,
     "metadata": {},
     "output_type": "execute_result"
    },
    {
     "data": {
      "image/png": "[encoded data removed]",
      "text/plain": [
       "<Figure size 640x480 with 1 Axes>"
      ]
     },
     "metadata": {},
     "output_type": "display_data"
    }
   ],
   "source": [
    "plans = ['brands were just in plan 0', 'brands were just in plan 3', 'brands switched from plan 0 to plan 3']\n",
    "counts = [check_just_plan_0.sum(), check_just_plan_3.sum(), check_both_plans.sum()]\n",
    "\n",
    "fig, ax = plt.subplots()\n",
    "bars = ax.bar(plans, counts)\n",
    "\n",
    "y_pos = range(len(plans))\n",
    "plt.xticks(y_pos, plans, rotation=90)\n",
    "plt.xlabel('Brands and their plans')\n",
    "plt.ylabel('Number of brands')\n",
    "# plt.title('Top 20 industries favourable to paid subscription')\n",
    "\n",
    "ax.bar_label(bars)"
   ]
  },
  {
   "cell_type": "code",
   "execution_count": 25,
   "id": "eeeeee57",
   "metadata": {},
   "outputs": [
    {
     "name": "stdout",
     "output_type": "stream",
     "text": [
      "12 Brand Profile IDs with both plan levels are: ['5996f8d5769fe71ade969e48', '602735c9a003fd0d5a099b09', '6029e2a0dad94a0d72217a7a', '607265750c3d8a0d7f0ebbb1', '60d5879a803d7e0d754530db', '618d429fff90460d6b51744f', '61e9cefdd415820d5b994e1f', '62b6304eeac72f096d18bb90', '62c64ce1f830b80d7983d52e', '62d03698eb60bd0d8eb10afe', '62d999afcb4c2e0d637cf179', '62e254b76af9a70d7edc7b48']\n"
     ]
    }
   ],
   "source": [
    "# The brands with both plan0 and plan3 means that the brands were initially on free period \n",
    "# and then switched to paid subscription\n",
    "\n",
    "# Get the brand profile IDs that have both plan levels\n",
    "brands_with_both_levels = check_both_plans[check_both_plans == True].index.tolist()\n",
    "\n",
    "print(f\"{len(brands_with_both_levels)} Brand Profile IDs with both plan levels are:\", brands_with_both_levels)"
   ]
  },
  {
   "cell_type": "code",
   "execution_count": 46,
   "id": "8deff24f",
   "metadata": {},
   "outputs": [],
   "source": [
    "# Get the brand profile IDs that have just plan 3\n",
    "brands_with_just_plan3 = check_just_plan_3[check_just_plan_3 == True].index.tolist()"
   ]
  },
  {
   "cell_type": "code",
   "execution_count": 47,
   "id": "98e0d251",
   "metadata": {},
   "outputs": [
    {
     "data": {
      "text/plain": [
       "8    306\n",
       "9    263\n",
       "Name: month_search, dtype: int64"
      ]
     },
     "execution_count": 47,
     "metadata": {},
     "output_type": "execute_result"
    }
   ],
   "source": [
    "# Number of searches made by brands that were on plan 3 only every month\n",
    "# i.e., brands that were not on free level - plan 0\n",
    "plan3_only = athlete_data[athlete_data.brand_profileID.isin(brands_with_just_plan3)][['brand_profileID', 'planLevel',\n",
    "                                                                                 'month_view', 'month_search']]\n",
    "\n",
    "plan3_only.month_search.value_counts()"
   ]
  },
  {
   "cell_type": "code",
   "execution_count": 48,
   "id": "94aaa8ad",
   "metadata": {},
   "outputs": [],
   "source": [
    "# Get the brand profile IDs that have just plan 0\n",
    "brands_with_just_plan0 = check_just_plan_0[check_just_plan_0 == True].index.tolist()"
   ]
  },
  {
   "cell_type": "code",
   "execution_count": 49,
   "id": "4a9c4de4",
   "metadata": {},
   "outputs": [
    {
     "data": {
      "text/plain": [
       "1    845\n",
       "2    793\n",
       "7    569\n",
       "4    559\n",
       "3    546\n",
       "5    493\n",
       "6    488\n",
       "8    264\n",
       "Name: month_search, dtype: int64"
      ]
     },
     "execution_count": 49,
     "metadata": {},
     "output_type": "execute_result"
    }
   ],
   "source": [
    "# Number of searches made by brands that were on plan 0 only every month\n",
    "# i.e., did not switch to plan 3\n",
    "\n",
    "plan0_only = athlete_data[athlete_data.brand_profileID.isin(brands_with_just_plan0)][['brand_profileID', 'planLevel',\n",
    "                                                                                 'month_view', 'month_search']]\n",
    "\n",
    "plan0_only.month_search.value_counts()"
   ]
  },
  {
   "cell_type": "markdown",
   "id": "672f387b",
   "metadata": {},
   "source": [
    "## Time taken for brands to switch from plan0 to plan3 "
   ]
  },
  {
   "cell_type": "code",
   "execution_count": 50,
   "id": "b73a3f83",
   "metadata": {},
   "outputs": [
    {
     "data": {
      "text/html": [
       "<div>\n",
       "<style scoped>\n",
       "    .dataframe tbody tr th:only-of-type {\n",
       "        vertical-align: middle;\n",
       "    }\n",
       "\n",
       "    .dataframe tbody tr th {\n",
       "        vertical-align: top;\n",
       "    }\n",
       "\n",
       "    .dataframe thead th {\n",
       "        text-align: right;\n",
       "    }\n",
       "</style>\n",
       "<table border=\"1\" class=\"dataframe\">\n",
       "  <thead>\n",
       "    <tr style=\"text-align: right;\">\n",
       "      <th></th>\n",
       "      <th>brand_profileID</th>\n",
       "      <th>first_plan0_date</th>\n",
       "      <th>first_plan3_date</th>\n",
       "      <th>time_taken</th>\n",
       "    </tr>\n",
       "  </thead>\n",
       "  <tbody>\n",
       "    <tr>\n",
       "      <th>594</th>\n",
       "      <td>5996f8d5769fe71ade969e48</td>\n",
       "      <td>2022-08-16 13:49:16</td>\n",
       "      <td>2022-08-16 13:49:16</td>\n",
       "      <td>0 days 00:00:00</td>\n",
       "    </tr>\n",
       "    <tr>\n",
       "      <th>36</th>\n",
       "      <td>602735c9a003fd0d5a099b09</td>\n",
       "      <td>2022-06-02 00:28:35</td>\n",
       "      <td>2022-09-15 04:16:49</td>\n",
       "      <td>105 days 03:48:14</td>\n",
       "    </tr>\n",
       "    <tr>\n",
       "      <th>537</th>\n",
       "      <td>6029e2a0dad94a0d72217a7a</td>\n",
       "      <td>2022-04-05 01:55:49</td>\n",
       "      <td>2022-08-18 21:01:32</td>\n",
       "      <td>135 days 19:05:43</td>\n",
       "    </tr>\n",
       "    <tr>\n",
       "      <th>427</th>\n",
       "      <td>607265750c3d8a0d7f0ebbb1</td>\n",
       "      <td>2022-08-12 18:16:11</td>\n",
       "      <td>2022-08-24 16:31:07</td>\n",
       "      <td>11 days 22:14:56</td>\n",
       "    </tr>\n",
       "    <tr>\n",
       "      <th>87</th>\n",
       "      <td>60d5879a803d7e0d754530db</td>\n",
       "      <td>2022-01-06 07:50:12</td>\n",
       "      <td>2022-09-12 22:46:22</td>\n",
       "      <td>249 days 14:56:10</td>\n",
       "    </tr>\n",
       "    <tr>\n",
       "      <th>519</th>\n",
       "      <td>618d429fff90460d6b51744f</td>\n",
       "      <td>2022-03-17 07:47:17</td>\n",
       "      <td>2022-08-19 11:41:38</td>\n",
       "      <td>155 days 03:54:21</td>\n",
       "    </tr>\n",
       "    <tr>\n",
       "      <th>278</th>\n",
       "      <td>61e9cefdd415820d5b994e1f</td>\n",
       "      <td>2022-02-22 08:13:08</td>\n",
       "      <td>2022-08-31 21:39:25</td>\n",
       "      <td>190 days 13:26:17</td>\n",
       "    </tr>\n",
       "    <tr>\n",
       "      <th>163</th>\n",
       "      <td>62b6304eeac72f096d18bb90</td>\n",
       "      <td>2022-06-24 21:48:40</td>\n",
       "      <td>2022-09-08 18:52:33</td>\n",
       "      <td>75 days 21:03:53</td>\n",
       "    </tr>\n",
       "    <tr>\n",
       "      <th>56</th>\n",
       "      <td>62c64ce1f830b80d7983d52e</td>\n",
       "      <td>2022-07-07 03:06:22</td>\n",
       "      <td>2022-09-13 17:57:17</td>\n",
       "      <td>68 days 14:50:55</td>\n",
       "    </tr>\n",
       "    <tr>\n",
       "      <th>314</th>\n",
       "      <td>62d03698eb60bd0d8eb10afe</td>\n",
       "      <td>2022-07-14 15:33:20</td>\n",
       "      <td>2022-08-29 10:36:19</td>\n",
       "      <td>45 days 19:02:59</td>\n",
       "    </tr>\n",
       "    <tr>\n",
       "      <th>92</th>\n",
       "      <td>62d999afcb4c2e0d637cf179</td>\n",
       "      <td>2022-07-27 01:39:52</td>\n",
       "      <td>2022-09-12 19:00:00</td>\n",
       "      <td>47 days 17:20:08</td>\n",
       "    </tr>\n",
       "    <tr>\n",
       "      <th>448</th>\n",
       "      <td>62e254b76af9a70d7edc7b48</td>\n",
       "      <td>2022-07-28 09:24:21</td>\n",
       "      <td>2022-08-23 11:49:14</td>\n",
       "      <td>26 days 02:24:53</td>\n",
       "    </tr>\n",
       "  </tbody>\n",
       "</table>\n",
       "</div>"
      ],
      "text/plain": [
       "              brand_profileID    first_plan0_date    first_plan3_date  \\\n",
       "594  5996f8d5769fe71ade969e48 2022-08-16 13:49:16 2022-08-16 13:49:16   \n",
       "36   602735c9a003fd0d5a099b09 2022-06-02 00:28:35 2022-09-15 04:16:49   \n",
       "537  6029e2a0dad94a0d72217a7a 2022-04-05 01:55:49 2022-08-18 21:01:32   \n",
       "427  607265750c3d8a0d7f0ebbb1 2022-08-12 18:16:11 2022-08-24 16:31:07   \n",
       "87   60d5879a803d7e0d754530db 2022-01-06 07:50:12 2022-09-12 22:46:22   \n",
       "519  618d429fff90460d6b51744f 2022-03-17 07:47:17 2022-08-19 11:41:38   \n",
       "278  61e9cefdd415820d5b994e1f 2022-02-22 08:13:08 2022-08-31 21:39:25   \n",
       "163  62b6304eeac72f096d18bb90 2022-06-24 21:48:40 2022-09-08 18:52:33   \n",
       "56   62c64ce1f830b80d7983d52e 2022-07-07 03:06:22 2022-09-13 17:57:17   \n",
       "314  62d03698eb60bd0d8eb10afe 2022-07-14 15:33:20 2022-08-29 10:36:19   \n",
       "92   62d999afcb4c2e0d637cf179 2022-07-27 01:39:52 2022-09-12 19:00:00   \n",
       "448  62e254b76af9a70d7edc7b48 2022-07-28 09:24:21 2022-08-23 11:49:14   \n",
       "\n",
       "           time_taken  \n",
       "594   0 days 00:00:00  \n",
       "36  105 days 03:48:14  \n",
       "537 135 days 19:05:43  \n",
       "427  11 days 22:14:56  \n",
       "87  249 days 14:56:10  \n",
       "519 155 days 03:54:21  \n",
       "278 190 days 13:26:17  \n",
       "163  75 days 21:03:53  \n",
       "56   68 days 14:50:55  \n",
       "314  45 days 19:02:59  \n",
       "92   47 days 17:20:08  \n",
       "448  26 days 02:24:53  "
      ]
     },
     "execution_count": 50,
     "metadata": {},
     "output_type": "execute_result"
    }
   ],
   "source": [
    "# Get the rows of the brand users who upgraded from plan 0 to plan3 \n",
    "# and just the columns required to calculate the time taken by each brand to \n",
    "# switch from plan 0 to plan 3\n",
    "\n",
    "# Get the rows of the brand users who upgraded from plan 0 to plan3 \n",
    "brands_with_plans_0_and_3 = athlete_data[athlete_data.brand_profileID.isin(brands_with_both_levels)]\\\n",
    "[['date', 'brand_userID', 'brand_profileID', 'planLevel']]\n",
    "\n",
    "# Sort the DataFrame by 'brand_profileID' and 'date'\n",
    "brands_with_plans_0_and_3 = brands_with_plans_0_and_3.sort_values(by=['brand_profileID', 'date'])\n",
    "brands_with_plans_0_and_3\n",
    "\n",
    "# To calculate the time taken to upgrade from plan 0 to plan 3\n",
    "\n",
    "# Use transform to get the first occurrence of 'Plan 0' and the first occurrence of 'Plan 3' for each 'brand_profileID'\n",
    "brands_with_plans_0_and_3['first_plan0_date'] = brands_with_plans_0_and_3.groupby('brand_profileID')['date'].transform('first')\n",
    "brands_with_plans_0_and_3['first_plan3_date'] = brands_with_plans_0_and_3[brands_with_plans_0_and_3['planLevel'] == 3].groupby('brand_profileID')['date'].transform('first')\n",
    "\n",
    "# Calculate the time difference between the first occurrence of 'Plan 0' and the first occurrence of 'Plan 3'\n",
    "brands_with_plans_0_and_3['time_taken'] = brands_with_plans_0_and_3['first_plan3_date'] - brands_with_plans_0_and_3['first_plan0_date']\n",
    "\n",
    "# Drop rows where 'time_taken' is NaT\n",
    "result = brands_with_plans_0_and_3.dropna(subset=['time_taken']).drop_duplicates(subset='brand_profileID', keep='first')[['brand_profileID', 'first_plan0_date', 'first_plan3_date', 'time_taken']]\n",
    "\n",
    "result"
   ]
  },
  {
   "cell_type": "markdown",
   "id": "431dc2d5",
   "metadata": {},
   "source": [
    "## Investigate the distribution of minimum and maximum prices to understand the range of prices for different plan levels. "
   ]
  },
  {
   "cell_type": "code",
   "execution_count": 115,
   "id": "3fafce89",
   "metadata": {},
   "outputs": [
    {
     "data": {
      "text/html": [
       "<div>\n",
       "<style scoped>\n",
       "    .dataframe tbody tr th:only-of-type {\n",
       "        vertical-align: middle;\n",
       "    }\n",
       "\n",
       "    .dataframe tbody tr th {\n",
       "        vertical-align: top;\n",
       "    }\n",
       "\n",
       "    .dataframe thead th {\n",
       "        text-align: right;\n",
       "    }\n",
       "</style>\n",
       "<table border=\"1\" class=\"dataframe\">\n",
       "  <thead>\n",
       "    <tr style=\"text-align: right;\">\n",
       "      <th></th>\n",
       "      <th>count</th>\n",
       "      <th>mean</th>\n",
       "      <th>std</th>\n",
       "      <th>min</th>\n",
       "      <th>25%</th>\n",
       "      <th>50%</th>\n",
       "      <th>75%</th>\n",
       "      <th>max</th>\n",
       "    </tr>\n",
       "    <tr>\n",
       "      <th>planLevel</th>\n",
       "      <th></th>\n",
       "      <th></th>\n",
       "      <th></th>\n",
       "      <th></th>\n",
       "      <th></th>\n",
       "      <th></th>\n",
       "      <th></th>\n",
       "      <th></th>\n",
       "    </tr>\n",
       "  </thead>\n",
       "  <tbody>\n",
       "    <tr>\n",
       "      <th>0</th>\n",
       "      <td>2769.0</td>\n",
       "      <td>1051.505598</td>\n",
       "      <td>7090.212660</td>\n",
       "      <td>0.0</td>\n",
       "      <td>100.0</td>\n",
       "      <td>100.0</td>\n",
       "      <td>600.0</td>\n",
       "      <td>250000.0</td>\n",
       "    </tr>\n",
       "    <tr>\n",
       "      <th>3</th>\n",
       "      <td>420.0</td>\n",
       "      <td>4074.369048</td>\n",
       "      <td>17358.502088</td>\n",
       "      <td>0.0</td>\n",
       "      <td>100.0</td>\n",
       "      <td>100.0</td>\n",
       "      <td>1000.0</td>\n",
       "      <td>100000.0</td>\n",
       "    </tr>\n",
       "  </tbody>\n",
       "</table>\n",
       "</div>"
      ],
      "text/plain": [
       "            count         mean           std  min    25%    50%     75%  \\\n",
       "planLevel                                                                 \n",
       "0          2769.0  1051.505598   7090.212660  0.0  100.0  100.0   600.0   \n",
       "3           420.0  4074.369048  17358.502088  0.0  100.0  100.0  1000.0   \n",
       "\n",
       "                max  \n",
       "planLevel            \n",
       "0          250000.0  \n",
       "3          100000.0  "
      ]
     },
     "execution_count": 115,
     "metadata": {},
     "output_type": "execute_result"
    }
   ],
   "source": [
    "athlete_data.groupby('planLevel')['minPrice'].describe()"
   ]
  },
  {
   "cell_type": "code",
   "execution_count": 116,
   "id": "bae5a31d",
   "metadata": {},
   "outputs": [
    {
     "data": {
      "text/plain": [
       "planLevel\n",
       "0    100.0\n",
       "3    100.0\n",
       "Name: minPrice, dtype: float64"
      ]
     },
     "execution_count": 116,
     "metadata": {},
     "output_type": "execute_result"
    }
   ],
   "source": [
    "athlete_data.groupby('planLevel')['minPrice'].median()"
   ]
  },
  {
   "cell_type": "code",
   "execution_count": 114,
   "id": "3baeba45",
   "metadata": {},
   "outputs": [
    {
     "data": {
      "text/html": [
       "<div>\n",
       "<style scoped>\n",
       "    .dataframe tbody tr th:only-of-type {\n",
       "        vertical-align: middle;\n",
       "    }\n",
       "\n",
       "    .dataframe tbody tr th {\n",
       "        vertical-align: top;\n",
       "    }\n",
       "\n",
       "    .dataframe thead th {\n",
       "        text-align: right;\n",
       "    }\n",
       "</style>\n",
       "<table border=\"1\" class=\"dataframe\">\n",
       "  <thead>\n",
       "    <tr style=\"text-align: right;\">\n",
       "      <th></th>\n",
       "      <th>count</th>\n",
       "      <th>mean</th>\n",
       "      <th>std</th>\n",
       "      <th>min</th>\n",
       "      <th>25%</th>\n",
       "      <th>50%</th>\n",
       "      <th>75%</th>\n",
       "      <th>max</th>\n",
       "    </tr>\n",
       "    <tr>\n",
       "      <th>planLevel</th>\n",
       "      <th></th>\n",
       "      <th></th>\n",
       "      <th></th>\n",
       "      <th></th>\n",
       "      <th></th>\n",
       "      <th></th>\n",
       "      <th></th>\n",
       "      <th></th>\n",
       "    </tr>\n",
       "  </thead>\n",
       "  <tbody>\n",
       "    <tr>\n",
       "      <th>0</th>\n",
       "      <td>4359.0</td>\n",
       "      <td>5922.769672</td>\n",
       "      <td>45175.272598</td>\n",
       "      <td>0.0</td>\n",
       "      <td>500.0</td>\n",
       "      <td>1000.0</td>\n",
       "      <td>3000.0</td>\n",
       "      <td>1000000.0</td>\n",
       "    </tr>\n",
       "    <tr>\n",
       "      <th>3</th>\n",
       "      <td>550.0</td>\n",
       "      <td>2448.954545</td>\n",
       "      <td>7082.126708</td>\n",
       "      <td>75.0</td>\n",
       "      <td>500.0</td>\n",
       "      <td>500.0</td>\n",
       "      <td>3000.0</td>\n",
       "      <td>110000.0</td>\n",
       "    </tr>\n",
       "  </tbody>\n",
       "</table>\n",
       "</div>"
      ],
      "text/plain": [
       "            count         mean           std   min    25%     50%     75%  \\\n",
       "planLevel                                                                   \n",
       "0          4359.0  5922.769672  45175.272598   0.0  500.0  1000.0  3000.0   \n",
       "3           550.0  2448.954545   7082.126708  75.0  500.0   500.0  3000.0   \n",
       "\n",
       "                 max  \n",
       "planLevel             \n",
       "0          1000000.0  \n",
       "3           110000.0  "
      ]
     },
     "execution_count": 114,
     "metadata": {},
     "output_type": "execute_result"
    }
   ],
   "source": [
    "athlete_data.groupby('planLevel')['maxPrice'].describe()"
   ]
  },
  {
   "cell_type": "code",
   "execution_count": 117,
   "id": "c3584d93",
   "metadata": {},
   "outputs": [
    {
     "data": {
      "text/plain": [
       "planLevel\n",
       "0    1000.0\n",
       "3     500.0\n",
       "Name: maxPrice, dtype: float64"
      ]
     },
     "execution_count": 117,
     "metadata": {},
     "output_type": "execute_result"
    }
   ],
   "source": [
    "athlete_data.groupby('planLevel')['maxPrice'].median()"
   ]
  },
  {
   "cell_type": "code",
   "execution_count": 110,
   "id": "becbbb69",
   "metadata": {},
   "outputs": [
    {
     "data": {
      "text/plain": [
       "(array([3.162e+03, 6.000e+00, 1.000e+00, 0.000e+00, 1.900e+01, 0.000e+00,\n",
       "        0.000e+00, 0.000e+00, 0.000e+00, 1.000e+00]),\n",
       " array([     0.,  25000.,  50000.,  75000., 100000., 125000., 150000.,\n",
       "        175000., 200000., 225000., 250000.]),\n",
       " <BarContainer object of 10 artists>)"
      ]
     },
     "execution_count": 110,
     "metadata": {},
     "output_type": "execute_result"
    },
    {
     "data": {
      "image/png": "[encoded data removed]",
      "text/plain": [
       "<Figure size 640x480 with 1 Axes>"
      ]
     },
     "metadata": {},
     "output_type": "display_data"
    }
   ],
   "source": [
    "# Distribution of minPRices\n",
    "\n",
    "plt.hist(athlete_data.minPrice)"
   ]
  },
  {
   "cell_type": "code",
   "execution_count": 111,
   "id": "155b0437",
   "metadata": {},
   "outputs": [
    {
     "data": {
      "text/plain": [
       "(array([4.868e+03, 1.800e+01, 0.000e+00, 0.000e+00, 0.000e+00, 1.900e+01,\n",
       "        0.000e+00, 0.000e+00, 0.000e+00, 4.000e+00]),\n",
       " array([      0.,  100000.,  200000.,  300000.,  400000.,  500000.,\n",
       "         600000.,  700000.,  800000.,  900000., 1000000.]),\n",
       " <BarContainer object of 10 artists>)"
      ]
     },
     "execution_count": 111,
     "metadata": {},
     "output_type": "execute_result"
    },
    {
     "data": {
      "image/png": "[encoded data removed]",
      "text/plain": [
       "<Figure size 640x480 with 1 Axes>"
      ]
     },
     "metadata": {},
     "output_type": "display_data"
    }
   ],
   "source": [
    "# Distribution of MAxPrice\n",
    "\n",
    "plt.hist(athlete_data.maxPrice)"
   ]
  },
  {
   "cell_type": "markdown",
   "id": "746ecada",
   "metadata": {},
   "source": [
    "## Average number of views "
   ]
  },
  {
   "cell_type": "code",
   "execution_count": 120,
   "id": "b9cf91b8",
   "metadata": {
    "scrolled": true
   },
   "outputs": [
    {
     "data": {
      "text/plain": [
       "planLevel\n",
       "0    1215\n",
       "3     403\n",
       "Name: view_id, dtype: int64"
      ]
     },
     "execution_count": 120,
     "metadata": {},
     "output_type": "execute_result"
    }
   ],
   "source": [
    "athlete_data.groupby('planLevel')['view_id'].aggregate('count')"
   ]
  },
  {
   "cell_type": "markdown",
   "id": "352a333a",
   "metadata": {},
   "source": [
    "## Number of monthly athlete views by plan"
   ]
  },
  {
   "cell_type": "code",
   "execution_count": 121,
   "id": "b98e8f53",
   "metadata": {},
   "outputs": [
    {
     "data": {
      "text/plain": [
       "planLevel\n",
       "0    847\n",
       "3    276\n",
       "Name: athlete_profileID, dtype: int64"
      ]
     },
     "execution_count": 121,
     "metadata": {},
     "output_type": "execute_result"
    }
   ],
   "source": [
    "athlete_data.groupby('planLevel')['athlete_profileID'].aggregate('count')"
   ]
  },
  {
   "cell_type": "code",
   "execution_count": 125,
   "id": "bec7e9d6",
   "metadata": {},
   "outputs": [
    {
     "data": {
      "text/plain": [
       "planLevel  month_search\n",
       "0          1                72\n",
       "           2                42\n",
       "           3                44\n",
       "           4                59\n",
       "           5                64\n",
       "           6               111\n",
       "           7               312\n",
       "           8               143\n",
       "3          8               147\n",
       "           9               129\n",
       "Name: athlete_profileID, dtype: int64"
      ]
     },
     "execution_count": 125,
     "metadata": {},
     "output_type": "execute_result"
    }
   ],
   "source": [
    "athlete_data.groupby(['planLevel', 'month_search'])['athlete_profileID'].aggregate('count')"
   ]
  },
  {
   "cell_type": "code",
   "execution_count": null,
   "id": "17a0ab07",
   "metadata": {},
   "outputs": [],
   "source": []
  }
 ],
 "metadata": {
  "kernelspec": {
   "display_name": "Python 3 (ipykernel)",
   "language": "python",
   "name": "python3"
  },
  "language_info": {
   "codemirror_mode": {
    "name": "ipython",
    "version": 3
   },
   "file_extension": ".py",
   "mimetype": "text/x-python",
   "name": "python",
   "nbconvert_exporter": "python",
   "pygments_lexer": "ipython3",
   "version": "3.9.12"
  }
 },
 "nbformat": 4,
 "nbformat_minor": 5
}
